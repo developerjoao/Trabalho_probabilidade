{
 "cells": [
  {
   "cell_type": "code",
   "execution_count": 1,
   "metadata": {},
   "outputs": [],
   "source": [
    "# boas práticas: criar uma célula com todas as bibliotecas necessárias\n",
    "# importando as bibliotecas necessárias\n",
    "import pandas as pd\n",
    "import matplotlib.pyplot as plt\n",
    "import seaborn as sns\n",
    "import numpy as np"
   ]
  },
  {
   "cell_type": "code",
   "execution_count": 3,
   "metadata": {},
   "outputs": [],
   "source": [
    "# Turmas 2017.2\n",
    "# http://dados.ufrn.br/dataset/turmas\n",
    "\n",
    "# turmas\n",
    "turmas_url = 'http://bit.do/turmas_ufrn_2017_2'\n",
    "\n",
    "# matrículas em componentes em 2017.2\n",
    "notas_url = 'http://bit.do/notas_ufrn_2017_2'\n",
    "\n",
    "# componentes curriculares presenciais\n",
    "disciplinas_url = 'http://bit.do/componentes_curriculares_ufrn'\n",
    "\n",
    "# docentes da ufrn atualizado em 2018\n",
    "docentes_url = 'http://bit.do/docentes_ufrn_2018'\n",
    "\n",
    "# turmas 2017.2\n",
    "turmas = pd.read_csv(turmas_url, sep=';')\n",
    "\n",
    "# matriculas em componentes em 2017.2\n",
    "notas = pd.read_csv(notas_url, sep=';')\n",
    "\n",
    "# componentes curriculares presenciais\n",
    "# por alguma razão ou outra, esse dataset tinha algum lixo em linhas que ocasionava \n",
    "# erros de leitura, dessa forma foi realizado um filtro apenas por colunas mais importantes\n",
    "disciplinas = pd.read_csv(disciplinas_url, \n",
    "                          sep=';', \n",
    "                          usecols=[\"id_componente\",\"codigo\",\"nivel\",\"nome\",\"unidade_responsavel\"])\n",
    "\n",
    "docentes = pd.read_csv(docentes_url, sep=';')"
   ]
  },
  {
   "cell_type": "code",
   "execution_count": 4,
   "metadata": {},
   "outputs": [],
   "source": [
    "# Adaptando o dataframe turma e disciplinas para o merge\n",
    "# Esse procedimento é necessário pois o dataframe turma está codificado com ids\n",
    "\n",
    "# A coluna id_componente precisa ser a mesma em ambos os dataframes\n",
    "turmas.rename(columns={'id_componente_curricular': 'id_componente'}, inplace=True)\n",
    "\n",
    "# id_componente em ambos os dataframes precisam ser do mesmo tipo\n",
    "turmas.id_componente = turmas.id_componente.astype(str)\n",
    "\n",
    "# Limpando o dataframe disciplinas com linhas desnecessárias\n",
    "disciplinas.dropna(inplace=True)\n",
    "disciplinas = disciplinas[~disciplinas.id_componente.duplicated()]"
   ]
  },
  {
   "cell_type": "code",
   "execution_count": 5,
   "metadata": {},
   "outputs": [],
   "source": [
    "# Fazendo um merge entre o dataframe turmas e disciplinas utilizando como base a coluna id_componente\n",
    "# https://pandas.pydata.org/pandas-docs/stable/merging.html\n",
    "colunas = [\"id_turma\",\"id_docente_interno\",\"codigo\",\"nivel_ensino\",\"nome\",\"unidade_responsavel\",\n",
    "          \"situacao_turma\",\"capacidade_aluno\",\"descricao_horario\"]\n",
    "\n",
    "# merge os dois dataframes utilizando como base a coluna id_componenteb\n",
    "merge_turmas_disciplinas = pd.merge(turmas, disciplinas, on='id_componente')[colunas]\n",
    "\n",
    "merge_turmas_disciplinas.dropna(inplace=True)"
   ]
  },
  {
   "cell_type": "code",
   "execution_count": 6,
   "metadata": {},
   "outputs": [],
   "source": [
    "# filtrando as turmas com código IMD\n",
    "turmas_imd = merge_turmas_disciplinas[merge_turmas_disciplinas.codigo.str.contains(\"IMD\")]\n",
    "\n",
    "# utilizar apenas disciplinas com código \"CONSOLIDADA\"\n",
    "turmas_imd = turmas_imd[turmas_imd.situacao_turma == 'CONSOLIDADA']\n",
    "\n",
    "# Adaptar o nome da coluna id_docente_interno para id_servidor\n",
    "turmas_imd.rename(columns={'id_docente_interno': 'id_servidor'}, inplace=True)\n",
    "\n",
    "turmas_imd.capacidade_aluno = turmas_imd.capacidade_aluno.astype(np.int64)\n",
    "\n",
    "# Adaptar os tipos de dados em turmas_imd para o merge com o dataframe docentes\n",
    "turmas_imd.id_servidor = turmas_imd.id_servidor.astype(np.int64)"
   ]
  },
  {
   "cell_type": "code",
   "execution_count": 7,
   "metadata": {},
   "outputs": [],
   "source": [
    "# merge os dataframes  turmas_imd e docentes utilizando como base a coluna id_servidor\n",
    "\n",
    "colunas = [\"id_turma\", \"nome_y\", \"codigo\", \"nivel_ensino\",\n",
    "          \"nome_x\",\"capacidade_aluno\", \"descricao_horario\"]\n",
    "turmas_imd_nomesprof = pd.merge(turmas_imd, docentes, on='id_servidor')[colunas]"
   ]
  },
  {
   "cell_type": "code",
   "execution_count": 8,
   "metadata": {},
   "outputs": [],
   "source": [
    "# filtrar apenas as turmas do IMD\n",
    "notas_imd = notas[notas.id_turma.isin(turmas_imd_nomesprof.id_turma)]\n",
    "\n",
    "# merge entre os dataframes notas_imd e turmas_imd_nomesprof utilizando como referencia id_turma\n",
    "notas_imd_merge = pd.merge(notas_imd, turmas_imd_nomesprof, on='id_turma')"
   ]
  },
  {
   "cell_type": "code",
   "execution_count": 9,
   "metadata": {},
   "outputs": [],
   "source": [
    "def aprovado(column):\n",
    "    if column[\"descricao\"]==(\"APROVADO\" or \"APROVADO POR NOTA\"):\n",
    "        return 1\n",
    "    else:\n",
    "        return 0"
   ]
  },
  {
   "cell_type": "code",
   "execution_count": 10,
   "metadata": {},
   "outputs": [],
   "source": [
    "# Colocando uma flag nos alunos aprovados em 2017.2\n",
    "rotulos = notas_imd_merge.apply(aprovado, axis = 1)\n",
    "notas_imd_merge[\"aprovado\"] = rotulos"
   ]
  },
  {
   "cell_type": "code",
   "execution_count": 11,
   "metadata": {},
   "outputs": [],
   "source": [
    "#Separando e tratando os alunos de graduação em 2017.2\n",
    "graduacao_imd = notas_imd_merge[notas_imd_merge[\"nivel_ensino\"] != \"LATO SENSU\"]\n",
    "graduacao_imd = graduacao_imd[graduacao_imd[\"descricao\"] != \"INDEFERIDO\"]\n",
    "graduacao_imd = graduacao_imd[graduacao_imd[\"descricao\"] != \"CANCELADO\"]\n",
    "graduacao_imd = graduacao_imd[graduacao_imd[\"descricao\"] != \"EXCLUIDA\"]"
   ]
  },
  {
   "cell_type": "code",
   "execution_count": 12,
   "metadata": {},
   "outputs": [],
   "source": [
    "#Tradando os dados para calcular a porcentagem de aprovados\n",
    "graduacao_imd.sort_values(ascending = True, by = \"nome_x\", inplace = True)\n",
    "graduacao_imd.reset_index(inplace = True)\n",
    "materias = graduacao_imd.nome_x.unique()"
   ]
  },
  {
   "cell_type": "code",
   "execution_count": 13,
   "metadata": {},
   "outputs": [],
   "source": [
    "#Tentativa de fazer um for para calcular as porcentagens\n",
    "for nome in materias:\n",
    "    data = graduacao_imd[graduacao_imd[\"nome_x\"] == nome]\n",
    "    data = data[data.duplicated(subset = \"discente\", keep = 'first') != True]\n",
    "    aprovados_data = data.pivot_table(index = \"nome_x\", values = \"aprovado\", aggfunc = np.sum)\n",
    "    quantidade_alunos = data.pivot_table(index = \"nome_x\", values = \"capacidade_aluno\", aggfunc = len)\n",
    "    percent = (aprovados_data.aprovado/quantidade_alunos.capacidade_aluno)*100\n",
    "    graduacao_imd[\"aprovados_percent\"] = percent"
   ]
  },
  {
   "cell_type": "code",
   "execution_count": 14,
   "metadata": {},
   "outputs": [],
   "source": [
    "#Separando as turmas de INTRODUÇÃO AO TESTE DE SOFTWARE e os aprovados\n",
    "its =graduacao_imd[graduacao_imd[\"nome_x\"] == \"INTRODUÇÃO AO TESTE DE SOFTWARE\"]\n",
    "its = its[its.duplicated(subset = \"discente\", keep = 'first') != True]\n",
    "aprovados_its = its.pivot_table(index = [\"nome_x\"], values = \"aprovado\", aggfunc = np.sum)\n",
    "quantidade_alunos = its.pivot_table(index = \"nome_x\", values = \"capacidade_aluno\", aggfunc = len)\n",
    "percent = (aprovados_its.aprovado/quantidade_alunos.capacidade_aluno)*100\n",
    "aprovados_its.aprovado = percent"
   ]
  },
  {
   "cell_type": "code",
   "execution_count": 15,
   "metadata": {},
   "outputs": [],
   "source": [
    "#Separando as turmas de ACESSIBILIDADE DIGITAL e os aprovados\n",
    "ad =graduacao_imd[graduacao_imd[\"nome_x\"] == \"ACESSIBILIDADE DIGITAL\"]\n",
    "ad = ad[ad.duplicated(subset = \"discente\", keep = 'first') != True]\n",
    "aprovados_ad = ad.pivot_table(index = [\"nome_x\"], values = \"aprovado\", aggfunc = np.sum)\n",
    "quantidade_alunos = ad.pivot_table(index = \"nome_x\", values = \"capacidade_aluno\", aggfunc = len)\n",
    "percent = (aprovados_ad.aprovado/quantidade_alunos.capacidade_aluno)*100\n",
    "aprovados_ad.aprovado = percent"
   ]
  },
  {
   "cell_type": "code",
   "execution_count": 16,
   "metadata": {},
   "outputs": [],
   "source": [
    "#Separando as turmas de APRENDIZAGEM BASEADA EM PROJETOS e os aprovados\n",
    "abp =graduacao_imd[graduacao_imd[\"nome_x\"] == \"APRENDIZAGEM BASEADA EM PROJETOS\"]\n",
    "abp = abp[abp.duplicated(subset = \"discente\", keep = 'first') != True]\n",
    "aprovados_abp = abp.pivot_table(index = [\"nome_x\"], values = \"aprovado\", aggfunc = np.sum)\n",
    "quantidade_alunos = abp.pivot_table(index = \"nome_x\", values = \"capacidade_aluno\", aggfunc = len)\n",
    "percent = (aprovados_abp.aprovado/quantidade_alunos.capacidade_aluno)*100\n",
    "aprovados_abp.aprovado = percent"
   ]
  },
  {
   "cell_type": "code",
   "execution_count": 17,
   "metadata": {},
   "outputs": [],
   "source": [
    "#Separando as turmas de BANCO DE DADOS e os aprovados\n",
    "bd =graduacao_imd[graduacao_imd[\"nome_x\"] == \"BANCO DE DADOS\"]\n",
    "bd = bd[bd.duplicated(subset = \"discente\", keep = 'first') != True]\n",
    "aprovados_bd = bd.pivot_table(index = [\"nome_x\"], values = \"aprovado\", aggfunc = np.sum)\n",
    "quantidade_alunos = bd.pivot_table(index = \"nome_x\", values = \"capacidade_aluno\", aggfunc = len)\n",
    "percent = (aprovados_bd.aprovado/quantidade_alunos.capacidade_aluno)*100\n",
    "aprovados_bd.aprovado = percent"
   ]
  },
  {
   "cell_type": "code",
   "execution_count": 18,
   "metadata": {},
   "outputs": [],
   "source": [
    "#Separando as turmas de DESENVOLVIMENTO DE SISTEMAS WEB I e os aprovados\n",
    "dsw1 =graduacao_imd[graduacao_imd[\"nome_x\"] == \"DESENVOLVIMENTO DE SISTEMAS WEB I\"]\n",
    "dsw1 = dsw1[dsw1.duplicated(subset = \"discente\", keep = 'first') != True]\n",
    "aprovados_dsw1 = dsw1.pivot_table(index = [\"nome_x\"], values = \"aprovado\", aggfunc = np.sum)\n",
    "quantidade_alunos = dsw1.pivot_table(index = \"nome_x\", values = \"capacidade_aluno\", aggfunc = len)\n",
    "percent = (aprovados_dsw1.aprovado/quantidade_alunos.capacidade_aluno)*100\n",
    "aprovados_dsw1.aprovado = percent"
   ]
  },
  {
   "cell_type": "code",
   "execution_count": 19,
   "metadata": {},
   "outputs": [],
   "source": [
    "#Separando as turmas de DESENVOLVIMENTO DE DESIGN DE SOFTWARE II e os aprovados\n",
    "ds2 =graduacao_imd[graduacao_imd[\"nome_x\"] == \"DESIGN DE SOFTWARE II\"]\n",
    "ds2 = ds2[ds2.duplicated(subset = \"discente\", keep = 'first') != True]\n",
    "aprovados_ds2 = ds2.pivot_table(index = [\"nome_x\"], values = \"aprovado\", aggfunc = np.sum)\n",
    "quantidade_alunos = ds2.pivot_table(index = \"nome_x\", values = \"capacidade_aluno\", aggfunc = len)\n",
    "percent = (aprovados_ds2.aprovado/quantidade_alunos.capacidade_aluno)*100\n",
    "aprovados_ds2.aprovado = percent"
   ]
  },
  {
   "cell_type": "code",
   "execution_count": 20,
   "metadata": {},
   "outputs": [],
   "source": [
    "#Separando as turmas de EMPREENDEDORISMO e os aprovados\n",
    "emp =graduacao_imd[graduacao_imd[\"nome_x\"] == \"EMPREENDEDORISMO\"]\n",
    "emp = emp[emp.duplicated(subset = \"discente\", keep = 'first') != True]\n",
    "aprovados_emp = emp.pivot_table(index = [\"nome_x\"], values = \"aprovado\", aggfunc = np.sum)\n",
    "quantidade_alunos = emp.pivot_table(index = \"nome_x\", values = \"capacidade_aluno\", aggfunc = len)\n",
    "percent = (aprovados_emp.aprovado/quantidade_alunos.capacidade_aluno)*100\n",
    "aprovados_emp.aprovado = percent"
   ]
  },
  {
   "cell_type": "code",
   "execution_count": 21,
   "metadata": {},
   "outputs": [],
   "source": [
    "#Separando as turmas de ESTRUTURA DE DADOS BÁSICAS I e os aprovados\n",
    "edb =graduacao_imd[graduacao_imd[\"nome_x\"] == \"ESTRUTURA DE DADOS BÁSICAS I\"]\n",
    "edb = edb[edb.duplicated(subset = \"discente\", keep = 'first') != True]\n",
    "aprovados_edb = edb.pivot_table(index = [\"nome_x\"], values = \"aprovado\", aggfunc = np.sum)\n",
    "quantidade_alunos = edb.pivot_table(index = \"nome_x\", values = \"capacidade_aluno\", aggfunc = len)\n",
    "percent = (aprovados_edb.aprovado/quantidade_alunos.capacidade_aluno)*100\n",
    "aprovados_edb.aprovado = percent"
   ]
  },
  {
   "cell_type": "code",
   "execution_count": 23,
   "metadata": {},
   "outputs": [],
   "source": [
    "#Separando as turmas de ESTRUTURAS DE DADOS BÁSICAS II e os aprovados\n",
    "edb2 =graduacao_imd[graduacao_imd[\"nome_x\"] == \"ESTRUTURAS DE DADOS BÁSICAS II\"]\n",
    "edb2 = edb2[edb2.duplicated(subset = \"discente\", keep = 'first') != True]\n",
    "aprovados_edb2 = edb2.pivot_table(index = [\"nome_x\"], values = \"aprovado\", aggfunc = np.sum)\n",
    "quantidade_alunos = edb2.pivot_table(index = \"nome_x\", values = \"capacidade_aluno\", aggfunc = len)\n",
    "percent = (aprovados_edb2.aprovado/quantidade_alunos.capacidade_aluno)*100\n",
    "aprovados_edb2.aprovado = percent"
   ]
  },
  {
   "cell_type": "code",
   "execution_count": 24,
   "metadata": {},
   "outputs": [],
   "source": [
    "#Separando as turmas de FUNDAMENTOS MATEMÁTICOS DA COMPUTAÇÃO I e os aprovados\n",
    "fmc =graduacao_imd[graduacao_imd[\"nome_x\"] == \"FUNDAMENTOS MATEMÁTICOS DA COMPUTAÇÃO I\"]\n",
    "fmc = fmc[fmc.duplicated(subset = \"discente\", keep = 'first') != True]\n",
    "aprovados_fmc = fmc.pivot_table(index = [\"nome_x\"], values = \"aprovado\", aggfunc = np.sum)\n",
    "quantidade_alunos = fmc.pivot_table(index = \"nome_x\", values = \"capacidade_aluno\", aggfunc = len)\n",
    "percent = (aprovados_fmc.aprovado/quantidade_alunos.capacidade_aluno)*100\n",
    "aprovados_fmc.aprovado = percent"
   ]
  },
  {
   "cell_type": "code",
   "execution_count": 25,
   "metadata": {},
   "outputs": [],
   "source": [
    "#Separando as turmas de FUNDAMENTOS MATEMÁTICOS DA COMPUTAÇÃO II e os aprovados\n",
    "fmc2 =graduacao_imd[graduacao_imd[\"nome_x\"] == \"FUNDAMENTOS MATEMÁTICOS DA COMPUTAÇÃO II\"]\n",
    "fmc2 = fmc2[fmc2.duplicated(subset = \"discente\", keep = 'first') != True]\n",
    "aprovados_fmc2 = fmc2.pivot_table(index = [\"nome_x\"], values = \"aprovado\", aggfunc = np.sum)\n",
    "quantidade_alunos = fmc2.pivot_table(index = \"nome_x\", values = \"capacidade_aluno\", aggfunc = len)\n",
    "percent = (aprovados_fmc2.aprovado/quantidade_alunos.capacidade_aluno)*100\n",
    "aprovados_fmc2.aprovado = percent"
   ]
  },
  {
   "cell_type": "code",
   "execution_count": 26,
   "metadata": {},
   "outputs": [],
   "source": [
    "#Separando as turmas de INTRODUÇÃO À GOVERNANÇA E GESTÃO DE TI e os aprovados\n",
    "iggti =graduacao_imd[graduacao_imd[\"nome_x\"] == \"INTRODUÇÃO À GOVERNANÇA E GESTÃO DE TI\"]\n",
    "iggti = iggti[iggti.duplicated(subset = \"discente\", keep = 'first') != True]\n",
    "aprovados_iggti = iggti.pivot_table(index = [\"nome_x\"], values = \"aprovado\", aggfunc = np.sum)\n",
    "quantidade_alunos = iggti.pivot_table(index = \"nome_x\", values = \"capacidade_aluno\", aggfunc = len)\n",
    "percent = (aprovados_iggti.aprovado/quantidade_alunos.capacidade_aluno)*100\n",
    "aprovados_iggti.aprovado = percent"
   ]
  },
  {
   "cell_type": "code",
   "execution_count": 27,
   "metadata": {},
   "outputs": [],
   "source": [
    "#Separando as turmas de INTRODUÇÃO ÀS TÉCNICAS DE PROGRAMAÇÃO e os aprovados\n",
    "itp =graduacao_imd[graduacao_imd[\"nome_x\"] == \"INTRODUÇÃO ÀS TÉCNICAS DE PROGRAMAÇÃO\"]\n",
    "itp = itp[itp.duplicated(subset = \"discente\", keep = 'first') != True]\n",
    "aprovados_itp = itp.pivot_table(index = [\"nome_x\"], values = \"aprovado\", aggfunc = np.sum)\n",
    "quantidade_alunos = itp.pivot_table(index = \"nome_x\", values = \"capacidade_aluno\", aggfunc = len)\n",
    "percent = (aprovados_itp.aprovado/quantidade_alunos.capacidade_aluno)*100\n",
    "aprovados_itp.aprovado = percent"
   ]
  },
  {
   "cell_type": "code",
   "execution_count": 28,
   "metadata": {},
   "outputs": [],
   "source": [
    "#Separando as turmas de JOGOS DIGITAIS COMO FERRAMENTA PEDAGÓGICA e os aprovados\n",
    "jdfp =graduacao_imd[graduacao_imd[\"nome_x\"] == \"JOGOS DIGITAIS COMO FERRAMENTA PEDAGÓGICA\"]\n",
    "jdfp = jdfp[jdfp.duplicated(subset = \"discente\", keep = 'first') != True]\n",
    "aprovados_jdfp = jdfp.pivot_table(index = [\"nome_x\"], values = \"aprovado\", aggfunc = np.sum)\n",
    "quantidade_alunos = jdfp.pivot_table(index = \"nome_x\", values = \"capacidade_aluno\", aggfunc = len)\n",
    "percent = (aprovados_jdfp.aprovado/quantidade_alunos.capacidade_aluno)*100\n",
    "aprovados_jdfp.aprovado = percent"
   ]
  },
  {
   "cell_type": "code",
   "execution_count": 30,
   "metadata": {},
   "outputs": [],
   "source": [
    "#Separando as turmas de LINGUAGEM DE PROGRAMAÇÃO I e os aprovados\n",
    "lip1 =graduacao_imd[graduacao_imd[\"nome_x\"] == \"LINGUAGEM DE PROGRAMAÇÃO I\"]\n",
    "lip1 = lip1[lip1.duplicated(subset = \"discente\", keep = 'first') != True]\n",
    "aprovados_lip1 = lip1.pivot_table(index = [\"nome_x\"], values = \"aprovado\", aggfunc = np.sum)\n",
    "quantidade_alunos = lip1.pivot_table(index = \"nome_x\", values = \"capacidade_aluno\", aggfunc = len)\n",
    "percent = (aprovados_lip1.aprovado/quantidade_alunos.capacidade_aluno)*100\n",
    "aprovados_lip1.aprovado = percent"
   ]
  },
  {
   "cell_type": "code",
   "execution_count": 29,
   "metadata": {},
   "outputs": [],
   "source": [
    "#Separando as turmas de LINGUAGEM DE PROGRAMAÇÃO II e os aprovados\n",
    "lip2 =graduacao_imd[graduacao_imd[\"nome_x\"] == \"LINGUAGEM DE PROGRAMAÇÃO II\"]\n",
    "lip2 = lip2[lip2.duplicated(subset = \"discente\", keep = 'first') != True]\n",
    "aprovados_lip2 = lip2.pivot_table(index = [\"nome_x\"], values = \"aprovado\", aggfunc = np.sum)\n",
    "quantidade_alunos = lip2.pivot_table(index = \"nome_x\", values = \"capacidade_aluno\", aggfunc = len)\n",
    "percent = (aprovados_lip2.aprovado/quantidade_alunos.capacidade_aluno)*100\n",
    "aprovados_lip2.aprovado = percent"
   ]
  },
  {
   "cell_type": "code",
   "execution_count": 31,
   "metadata": {},
   "outputs": [],
   "source": [
    "#Separando as turmas de MECÂNICAS E BALANCEAMENTO DE JOGOS e os aprovados\n",
    "mbj =graduacao_imd[graduacao_imd[\"nome_x\"] == \"MECÂNICAS E BALANCEAMENTO DE JOGOS\"]\n",
    "mbj = mbj[mbj.duplicated(subset = \"discente\", keep = 'first') != True]\n",
    "aprovados_mbj = mbj.pivot_table(index = [\"nome_x\"], values = \"aprovado\", aggfunc = np.sum)\n",
    "quantidade_alunos = mbj.pivot_table(index = \"nome_x\", values = \"capacidade_aluno\", aggfunc = len)\n",
    "percent = (aprovados_mbj.aprovado/quantidade_alunos.capacidade_aluno)*100\n",
    "aprovados_mbj.aprovado = percent"
   ]
  },
  {
   "cell_type": "code",
   "execution_count": 32,
   "metadata": {},
   "outputs": [],
   "source": [
    "#Separando as turmas de PROBABILIDADE e os aprovados\n",
    "prob =graduacao_imd[graduacao_imd[\"nome_x\"] == \"PROBABILIDADE\"]\n",
    "prob = prob[prob.duplicated(subset = \"discente\", keep = 'first') != True]\n",
    "aprovados_prob = prob.pivot_table(index = [\"nome_x\"], values = \"aprovado\", aggfunc = np.sum)\n",
    "quantidade_alunos = prob.pivot_table(index = \"nome_x\", values = \"capacidade_aluno\", aggfunc = len)\n",
    "percent = (aprovados_prob.aprovado/quantidade_alunos.capacidade_aluno)*100\n",
    "aprovados_prob.aprovado = percent"
   ]
  },
  {
   "cell_type": "code",
   "execution_count": 33,
   "metadata": {},
   "outputs": [],
   "source": [
    "#Separando as turmas de PROCESSO DE DESENVOLVIMENTO DE SOFTWARE EDUCACIONAL e os aprovados\n",
    "pdse =graduacao_imd[graduacao_imd[\"nome_x\"] == \"PROCESSO DE DESENVOLVIMENTO DE SOFTWARE EDUCACIONAL\"]\n",
    "pdse = pdse[pdse.duplicated(subset = \"discente\", keep = 'first') != True]\n",
    "aprovados_pdse = pdse.pivot_table(index = [\"nome_x\"], values = \"aprovado\", aggfunc = np.sum)\n",
    "quantidade_alunos = pdse.pivot_table(index = \"nome_x\", values = \"capacidade_aluno\", aggfunc = len)\n",
    "percent = (aprovados_pdse.aprovado/quantidade_alunos.capacidade_aluno)*100\n",
    "aprovados_pdse.aprovado = percent"
   ]
  },
  {
   "cell_type": "code",
   "execution_count": 34,
   "metadata": {},
   "outputs": [],
   "source": [
    "#Separando as turmas de PROGRAMAÇÃO CONCORRENTE E DISTRIBUÍDA e os aprovados\n",
    "pcd =graduacao_imd[graduacao_imd[\"nome_x\"] == \"PROGRAMAÇÃO CONCORRENTE E DISTRIBUÍDA\"]\n",
    "pcd = pcd[pcd.duplicated(subset = \"discente\", keep = 'first') != True]\n",
    "aprovados_pcd = pcd.pivot_table(index = [\"nome_x\"], values = \"aprovado\", aggfunc = np.sum)\n",
    "quantidade_alunos = pcd.pivot_table(index = \"nome_x\", values = \"capacidade_aluno\", aggfunc = len)\n",
    "percent = (aprovados_pcd.aprovado/quantidade_alunos.capacidade_aluno)*100\n",
    "aprovados_pcd.aprovado = percent"
   ]
  },
  {
   "cell_type": "code",
   "execution_count": 35,
   "metadata": {},
   "outputs": [],
   "source": [
    "#Separando as turmas de PROJETOS BASEADOS EM MICROCONTROLADORES e os aprovados\n",
    "pbm =graduacao_imd[graduacao_imd[\"nome_x\"] == \"PROJETOS BASEADOS EM MICROCONTROLADORES\"]\n",
    "pbm = pbm[pbm.duplicated(subset = \"discente\", keep = 'first') != True]\n",
    "aprovados_pbm = pbm.pivot_table(index = [\"nome_x\"], values = \"aprovado\", aggfunc = np.sum)\n",
    "quantidade_alunos = pbm.pivot_table(index = \"nome_x\", values = \"capacidade_aluno\", aggfunc = len)\n",
    "percent = (aprovados_pbm.aprovado/quantidade_alunos.capacidade_aluno)*100\n",
    "aprovados_pbm.aprovado = percent"
   ]
  },
  {
   "cell_type": "code",
   "execution_count": 36,
   "metadata": {},
   "outputs": [],
   "source": [
    "#Separando as turmas de PROTOCOLO E SERVIÇOS DE INTERNET e os aprovados\n",
    "psi =graduacao_imd[graduacao_imd[\"nome_x\"] == \"PROTOCOLO E SERVIÇOS DE INTERNET\"]\n",
    "psi = psi[psi.duplicated(subset = \"discente\", keep = 'first') != True]\n",
    "aprovados_psi = psi.pivot_table(index = [\"nome_x\"], values = \"aprovado\", aggfunc = np.sum)\n",
    "quantidade_alunos = psi.pivot_table(index = \"nome_x\", values = \"capacidade_aluno\", aggfunc = len)\n",
    "percent = (aprovados_psi.aprovado/quantidade_alunos.capacidade_aluno)*100\n",
    "aprovados_psi.aprovado = percent"
   ]
  },
  {
   "cell_type": "code",
   "execution_count": 37,
   "metadata": {},
   "outputs": [],
   "source": [
    "#Separando as turmas de PRÁTICAS DE LEITURA E ESCRITA EM PORTUGUÊS I e os aprovados\n",
    "plip =graduacao_imd[graduacao_imd[\"nome_x\"] == \"PRÁTICAS DE LEITURA E ESCRITA EM PORTUGUÊS I\"]\n",
    "plip = plip[plip.duplicated(subset = \"discente\", keep = 'first') != True]\n",
    "aprovados_plip = plip.pivot_table(index = [\"nome_x\"], values = \"aprovado\", aggfunc = np.sum)\n",
    "quantidade_alunos = plip.pivot_table(index = \"nome_x\", values = \"capacidade_aluno\", aggfunc = len)\n",
    "percent = (aprovados_plip.aprovado/quantidade_alunos.capacidade_aluno)*100\n",
    "aprovados_plip.aprovado = percent"
   ]
  },
  {
   "cell_type": "code",
   "execution_count": 38,
   "metadata": {},
   "outputs": [],
   "source": [
    "#Separando as turmas de PRÁTICAS DE LEITURA E ESCRITA EM PORTUGUÊS II e os aprovados\n",
    "plip2 =graduacao_imd[graduacao_imd[\"nome_x\"] == \"PRÁTICAS DE LEITURA E ESCRITA EM PORTUGUÊS II\"]\n",
    "plip2 = plip2[plip2.duplicated(subset = \"discente\", keep = 'first') != True]\n",
    "aprovados_plip2 = plip2.pivot_table(index = [\"nome_x\"], values = \"aprovado\", aggfunc = np.sum)\n",
    "quantidade_alunos = plip2.pivot_table(index = \"nome_x\", values = \"capacidade_aluno\", aggfunc = len)\n",
    "percent = (aprovados_plip2.aprovado/quantidade_alunos.capacidade_aluno)*100\n",
    "aprovados_plip2.aprovado = percent"
   ]
  },
  {
   "cell_type": "code",
   "execution_count": 39,
   "metadata": {},
   "outputs": [],
   "source": [
    "#Separando as turmas de PRÁTICAS DE TÉCNICAS DE PROGRAMAÇÃO e os aprovados\n",
    "ptp =graduacao_imd[graduacao_imd[\"nome_x\"] == \"PRÁTICAS DE TÉCNICAS DE PROGRAMAÇÃO\"]\n",
    "ptp = ptp[ptp.duplicated(subset = \"discente\", keep = 'first') != True]\n",
    "aprovados_ptp = ptp.pivot_table(index = [\"nome_x\"], values = \"aprovado\", aggfunc = np.sum)\n",
    "quantidade_alunos = ptp.pivot_table(index = \"nome_x\", values = \"capacidade_aluno\", aggfunc = len)\n",
    "percent = (aprovados_ptp.aprovado/quantidade_alunos.capacidade_aluno)*100\n",
    "aprovados_ptp.aprovado = percent"
   ]
  },
  {
   "cell_type": "code",
   "execution_count": 40,
   "metadata": {},
   "outputs": [],
   "source": [
    "#Separando as turmas de REDES DE COMPUTADORES e os aprovados\n",
    "rd =graduacao_imd[graduacao_imd[\"nome_x\"] == \"REDES DE COMPUTADORES\"]\n",
    "rd = rd[rd.duplicated(subset = \"discente\", keep = 'first') != True]\n",
    "aprovados_rd = rd.pivot_table(index = [\"nome_x\"], values = \"aprovado\", aggfunc = np.sum)\n",
    "quantidade_alunos = rd.pivot_table(index = \"nome_x\", values = \"capacidade_aluno\", aggfunc = len)\n",
    "percent = (aprovados_rd.aprovado/quantidade_alunos.capacidade_aluno)*100\n",
    "aprovados_rd.aprovado = percent"
   ]
  },
  {
   "cell_type": "code",
   "execution_count": 41,
   "metadata": {},
   "outputs": [],
   "source": [
    "#Separando as turmas de RELAÇÕES ENTRE COMUNICAÇÃO, MÍDIA E EDUCAÇÃO e os aprovados\n",
    "recme =graduacao_imd[graduacao_imd[\"nome_x\"] == \"RELAÇÕES ENTRE COMUNICAÇÃO, MÍDIA E EDUCAÇÃO\"]\n",
    "recme = recme[recme.duplicated(subset = \"discente\", keep = 'first') != True]\n",
    "aprovados_recme = recme.pivot_table(index = [\"nome_x\"], values = \"aprovado\", aggfunc = np.sum)\n",
    "quantidade_alunos = recme.pivot_table(index = \"nome_x\", values = \"capacidade_aluno\", aggfunc = len)\n",
    "percent = (aprovados_recme.aprovado/quantidade_alunos.capacidade_aluno)*100\n",
    "aprovados_recme.aprovado = percent"
   ]
  },
  {
   "cell_type": "code",
   "execution_count": 42,
   "metadata": {},
   "outputs": [],
   "source": [
    "#Separando as turmas de RESOLUÇÃO DE PROBLEMAS MATEMÁTICOS PARA TI e os aprovados\n",
    "rpmti =graduacao_imd[graduacao_imd[\"nome_x\"] == \"RESOLUÇÃO DE PROBLEMAS MATEMÁTICOS PARA TI\"]\n",
    "rpmti = rpmti[rpmti.duplicated(subset = \"discente\", keep = 'first') != True]\n",
    "aprovados_rpmti = rpmti.pivot_table(index = [\"nome_x\"], values = \"aprovado\", aggfunc = np.sum)\n",
    "quantidade_alunos = rpmti.pivot_table(index = \"nome_x\", values = \"capacidade_aluno\", aggfunc = len)\n",
    "percent = (aprovados_rpmti.aprovado/quantidade_alunos.capacidade_aluno)*100\n",
    "aprovados_rpmti.aprovado = percent"
   ]
  },
  {
   "cell_type": "code",
   "execution_count": 43,
   "metadata": {},
   "outputs": [],
   "source": [
    "#Separando as turmas de SEGURANÇA DE REDES e os aprovados\n",
    "sr =graduacao_imd[graduacao_imd[\"nome_x\"] == \"SEGURANÇA DE REDES\"]\n",
    "sr = sr[sr.duplicated(subset = \"discente\", keep = 'first') != True]\n",
    "aprovados_sr = sr.pivot_table(index = [\"nome_x\"], values = \"aprovado\", aggfunc = np.sum)\n",
    "quantidade_alunos = sr.pivot_table(index = \"nome_x\", values = \"capacidade_aluno\", aggfunc = len)\n",
    "percent = (aprovados_sr.aprovado/quantidade_alunos.capacidade_aluno)*100\n",
    "aprovados_sr.aprovado = percent"
   ]
  },
  {
   "cell_type": "code",
   "execution_count": 44,
   "metadata": {},
   "outputs": [],
   "source": [
    "#Separando as turmas de SERVIÇOS DE REDE E TRANSPORTE e os aprovados\n",
    "srt =graduacao_imd[graduacao_imd[\"nome_x\"] == \"SERVIÇOS DE REDE E TRANSPORTE\"]\n",
    "srt = srt[srt.duplicated(subset = \"discente\", keep = 'first') != True]\n",
    "aprovados_srt = srt.pivot_table(index = [\"nome_x\"], values = \"aprovado\", aggfunc = np.sum)\n",
    "quantidade_alunos = srt.pivot_table(index = \"nome_x\", values = \"capacidade_aluno\", aggfunc = len)\n",
    "percent = (aprovados_srt.aprovado/quantidade_alunos.capacidade_aluno)*100\n",
    "aprovados_srt.aprovado = percent"
   ]
  },
  {
   "cell_type": "code",
   "execution_count": 45,
   "metadata": {},
   "outputs": [],
   "source": [
    "#Separando as turmas de SISTEMAS OPERACIONAI Se os aprovados\n",
    "so =graduacao_imd[graduacao_imd[\"nome_x\"] == \"SISTEMAS OPERACIONAIS\"]\n",
    "so = so[so.duplicated(subset = \"discente\", keep = 'first') != True]\n",
    "aprovados_so = so.pivot_table(index = [\"nome_x\"], values = \"aprovado\", aggfunc = np.sum)\n",
    "quantidade_alunos = so.pivot_table(index = \"nome_x\", values = \"capacidade_aluno\", aggfunc = len)\n",
    "percent = (aprovados_so.aprovado/quantidade_alunos.capacidade_aluno)*100\n",
    "aprovados_so.aprovado = percent"
   ]
  },
  {
   "cell_type": "code",
   "execution_count": 46,
   "metadata": {},
   "outputs": [],
   "source": [
    "#Separando as turmas de TECNOLOGIA DA INFORMAÇÃO E SOCIEDADE e os aprovados\n",
    "tis =graduacao_imd[graduacao_imd[\"nome_x\"] == \"TECNOLOGIA DA INFORMAÇÃO E SOCIEDADE\"]\n",
    "tis = tis[tis.duplicated(subset = \"discente\", keep = 'first') != True]\n",
    "aprovados_tis = tis.pivot_table(index = [\"nome_x\"], values = \"aprovado\", aggfunc = np.sum)\n",
    "quantidade_alunos = tis.pivot_table(index = \"nome_x\", values = \"capacidade_aluno\", aggfunc = len)\n",
    "percent = (aprovados_tis.aprovado/quantidade_alunos.capacidade_aluno)*100\n",
    "aprovados_tis.aprovado = percent"
   ]
  },
  {
   "cell_type": "code",
   "execution_count": 47,
   "metadata": {},
   "outputs": [],
   "source": [
    "#Separando as turmas de TECNOLOGIA DA INFORMAÇÃO NA SAÚDE e os aprovados\n",
    "tisa =graduacao_imd[graduacao_imd[\"nome_x\"] == \"TECNOLOGIA DA INFORMAÇÃO NA SAÚDE\"]\n",
    "tisa = tisa[tisa.duplicated(subset = \"discente\", keep = 'first') != True]\n",
    "aprovados_tisa = tisa.pivot_table(index = [\"nome_x\"], values = \"aprovado\", aggfunc = np.sum)\n",
    "quantidade_alunos = tisa.pivot_table(index = \"nome_x\", values = \"capacidade_aluno\", aggfunc = len)\n",
    "percent = (aprovados_tisa.aprovado/quantidade_alunos.capacidade_aluno)*100\n",
    "aprovados_tisa.aprovado = percent"
   ]
  },
  {
   "cell_type": "code",
   "execution_count": 48,
   "metadata": {},
   "outputs": [],
   "source": [
    "#Separando as turmas de TECNOLOGIAS EDUCACIONAIS e os aprovados\n",
    "te =graduacao_imd[graduacao_imd[\"nome_x\"] == \"TECNOLOGIAS EDUCACIONAIS\"]\n",
    "te = te[te.duplicated(subset = \"discente\", keep = 'first') != True]\n",
    "aprovados_te = te.pivot_table(index = [\"nome_x\"], values = \"aprovado\", aggfunc = np.sum)\n",
    "quantidade_alunos = te.pivot_table(index = \"nome_x\", values = \"capacidade_aluno\", aggfunc = len)\n",
    "percent = (aprovados_te.aprovado/quantidade_alunos.capacidade_aluno)*100\n",
    "aprovados_te.aprovado = percent"
   ]
  },
  {
   "cell_type": "code",
   "execution_count": 49,
   "metadata": {},
   "outputs": [],
   "source": [
    "#Separando as turmas de TECNOLOGIAS EM LARGA ESCALA I e os aprovados\n",
    "tle1 =graduacao_imd[graduacao_imd[\"nome_x\"] == \"TECNOLOGIAS EM LARGA ESCALA I\"]\n",
    "tle1 = tle1[tle1.duplicated(subset = \"discente\", keep = 'first') != True]\n",
    "aprovados_tle1 = tle1.pivot_table(index = [\"nome_x\"], values = \"aprovado\", aggfunc = np.sum)\n",
    "quantidade_alunos = tle1.pivot_table(index = \"nome_x\", values = \"capacidade_aluno\", aggfunc = len)\n",
    "percent = (aprovados_tle1.aprovado/quantidade_alunos.capacidade_aluno)*100\n",
    "aprovados_tle1.aprovado = percent"
   ]
  },
  {
   "cell_type": "code",
   "execution_count": 50,
   "metadata": {},
   "outputs": [],
   "source": [
    "#Separando as turmas de TÓPICOS ESPECIAIS I e os aprovados\n",
    "te1 =graduacao_imd[graduacao_imd[\"nome_x\"] == \"TÓPICOS ESPECIAIS I\"]\n",
    "te1 = te1[te1.duplicated(subset = \"discente\", keep = 'first') != True]\n",
    "aprovados_te1 = te1.pivot_table(index = [\"nome_x\"], values = \"aprovado\", aggfunc = np.sum)\n",
    "quantidade_alunos = te1.pivot_table(index = \"nome_x\", values = \"capacidade_aluno\", aggfunc = len)\n",
    "percent = (aprovados_te1.aprovado/quantidade_alunos.capacidade_aluno)*100\n",
    "aprovados_te1.aprovado = percent"
   ]
  },
  {
   "cell_type": "code",
   "execution_count": 51,
   "metadata": {},
   "outputs": [],
   "source": [
    "#Separando as turmas de VETORES E GEOMETRIA ANALÍTICA e os aprovados\n",
    "vga =graduacao_imd[graduacao_imd[\"nome_x\"] == \"VETORES E GEOMETRIA ANALÍTICA\"]\n",
    "vga = vga[vga.duplicated(subset = \"discente\", keep = 'first') != True]\n",
    "aprovados_vga = vga.pivot_table(index = [\"nome_x\"], values = \"aprovado\", aggfunc = np.sum)\n",
    "quantidade_alunos = vga.pivot_table(index = \"nome_x\", values = \"capacidade_aluno\", aggfunc = len)\n",
    "percent = (aprovados_vga.aprovado/quantidade_alunos.capacidade_aluno)*100\n",
    "aprovados_vga.aprovado = percent"
   ]
  },
  {
   "cell_type": "code",
   "execution_count": 61,
   "metadata": {},
   "outputs": [],
   "source": [
    "#Fazendo novo dataframe contendo apenas as materias e as porcentagens de aprovação\n",
    "aprovados_materias = pd.concat([aprovados_ad,aprovados_its,aprovados_vga,aprovados_te1,aprovados_tle1,aprovados_te,\n",
    "                                aprovados_tisa,aprovados_tis,aprovados_so,aprovados_srt,aprovados_sr,aprovados_rpmti,\n",
    "                               aprovados_recme,aprovados_rd,aprovados_ptp,aprovados_plip2,aprovados_plip,\n",
    "                               aprovados_psi,aprovados_pbm,aprovados_pcd,aprovados_pdse,aprovados_prob,\n",
    "                               aprovados_mbj,aprovados_lip2,aprovados_lip1,aprovados_jdfp,aprovados_itp,\n",
    "                               aprovados_iggti,aprovados_fmc2,aprovados_fmc,aprovados_edb2,aprovados_edb,\n",
    "                               aprovados_emp,aprovados_ds2,aprovados_dsw1,aprovados_bd,aprovados_abp])\n",
    "aprovados_materias.sort_values(ascending = False, by = \"aprovado\", inplace = True)"
   ]
  },
  {
   "cell_type": "code",
   "execution_count": 110,
   "metadata": {},
   "outputs": [
    {
     "data": {
      "text/plain": [
       "<matplotlib.axes._subplots.AxesSubplot at 0x18e8ffc9f98>"
      ]
     },
     "execution_count": 110,
     "metadata": {},
     "output_type": "execute_result"
    },
    {
     "data": {
      "image/png": "[encoded data removed]",
      "text/plain": [
       "<matplotlib.figure.Figure at 0x18e8ff89b00>"
      ]
     },
     "metadata": {},
     "output_type": "display_data"
    }
   ],
   "source": [
    "#Mostrando o resultado do tratamento do dataframe sobre as notas do IMD no semestre de 2017.2\n",
    "aprovados_materias.plot(kind = 'bar')"
   ]
  }
 ],
 "metadata": {
  "kernelspec": {
   "display_name": "Python 3",
   "language": "python",
   "name": "python3"
  },
  "language_info": {
   "codemirror_mode": {
    "name": "ipython",
    "version": 3
   },
   "file_extension": ".py",
   "mimetype": "text/x-python",
   "name": "python",
   "nbconvert_exporter": "python",
   "pygments_lexer": "ipython3",
   "version": "3.6.4"
  }
 },
 "nbformat": 4,
 "nbformat_minor": 2
}
