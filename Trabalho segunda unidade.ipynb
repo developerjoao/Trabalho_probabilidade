{
 "cells": [
  {
   "cell_type": "code",
   "execution_count": 1,
   "metadata": {},
   "outputs": [],
   "source": [
    "# boas práticas: criar uma célula com todas as bibliotecas necessárias\n",
    "# importando as bibliotecas necessárias\n",
    "import pandas as pd\n",
    "import matplotlib.pyplot as plt\n",
    "import seaborn as sns\n",
    "import numpy as np"
   ]
  },
  {
   "cell_type": "code",
   "execution_count": 2,
   "metadata": {},
   "outputs": [],
   "source": [
    "# Turmas 2017.2\n",
    "# http://dados.ufrn.br/dataset/turmas\n",
    "\n",
    "# turmas\n",
    "turmas_url = 'http://bit.do/turmas_ufrn_2017_2'\n",
    "\n",
    "# matrículas em componentes em 2017.2\n",
    "notas_url = 'http://bit.do/notas_ufrn_2017_2'\n",
    "\n",
    "# componentes curriculares presenciais\n",
    "disciplinas_url = 'http://bit.do/componentes_curriculares_ufrn'\n",
    "\n",
    "# docentes da ufrn atualizado em 2018\n",
    "docentes_url = 'http://bit.do/docentes_ufrn_2018'\n",
    "\n",
    "# turmas 2017.2\n",
    "turmas = pd.read_csv(turmas_url, sep=';')\n",
    "\n",
    "# matriculas em componentes em 2017.2\n",
    "notas = pd.read_csv(notas_url, sep=';')\n",
    "\n",
    "# componentes curriculares presenciais\n",
    "# por alguma razão ou outra, esse dataset tinha algum lixo em linhas que ocasionava \n",
    "# erros de leitura, dessa forma foi realizado um filtro apenas por colunas mais importantes\n",
    "disciplinas = pd.read_csv(disciplinas_url, \n",
    "                          sep=';', \n",
    "                          usecols=[\"id_componente\",\"codigo\",\"nivel\",\"nome\",\"unidade_responsavel\"])\n",
    "\n",
    "docentes = pd.read_csv(docentes_url, sep=';')"
   ]
  },
  {
   "cell_type": "code",
   "execution_count": 3,
   "metadata": {},
   "outputs": [],
   "source": [
    "# Adaptando o dataframe turma e disciplinas para o merge\n",
    "# Esse procedimento é necessário pois o dataframe turma está codificado com ids\n",
    "\n",
    "# A coluna id_componente precisa ser a mesma em ambos os dataframes\n",
    "turmas.rename(columns={'id_componente_curricular': 'id_componente'}, inplace=True)\n",
    "\n",
    "# id_componente em ambos os dataframes precisam ser do mesmo tipo\n",
    "turmas.id_componente = turmas.id_componente.astype(str)\n",
    "\n",
    "# Limpando o dataframe disciplinas com linhas desnecessárias\n",
    "disciplinas.dropna(inplace=True)\n",
    "disciplinas = disciplinas[~disciplinas.id_componente.duplicated()]"
   ]
  },
  {
   "cell_type": "code",
   "execution_count": 4,
   "metadata": {},
   "outputs": [
    {
     "data": {
      "text/html": [
       "<div>\n",
       "<style scoped>\n",
       "    .dataframe tbody tr th:only-of-type {\n",
       "        vertical-align: middle;\n",
       "    }\n",
       "\n",
       "    .dataframe tbody tr th {\n",
       "        vertical-align: top;\n",
       "    }\n",
       "\n",
       "    .dataframe thead th {\n",
       "        text-align: right;\n",
       "    }\n",
       "</style>\n",
       "<table border=\"1\" class=\"dataframe\">\n",
       "  <thead>\n",
       "    <tr style=\"text-align: right;\">\n",
       "      <th></th>\n",
       "      <th>id_turma</th>\n",
       "      <th>id_docente_interno</th>\n",
       "      <th>codigo</th>\n",
       "      <th>nivel_ensino</th>\n",
       "      <th>nome</th>\n",
       "      <th>unidade_responsavel</th>\n",
       "      <th>situacao_turma</th>\n",
       "      <th>capacidade_aluno</th>\n",
       "      <th>descricao_horario</th>\n",
       "    </tr>\n",
       "  </thead>\n",
       "  <tbody>\n",
       "    <tr>\n",
       "      <th>0</th>\n",
       "      <td>57602957</td>\n",
       "      <td>5753061.0</td>\n",
       "      <td>ART2077</td>\n",
       "      <td>LATO SENSU</td>\n",
       "      <td>PRODUÇÃO COREOGRÁFICA I</td>\n",
       "      <td>DEPARTAMENTO DE ARTES</td>\n",
       "      <td>CONSOLIDADA</td>\n",
       "      <td>40.0</td>\n",
       "      <td>7M2345  7T23456</td>\n",
       "    </tr>\n",
       "    <tr>\n",
       "      <th>2</th>\n",
       "      <td>57602962</td>\n",
       "      <td>5752714.0</td>\n",
       "      <td>ART2083</td>\n",
       "      <td>LATO SENSU</td>\n",
       "      <td>VIESES  ARTÍSTICOS  CONTEMPORÂNEOS  EM  DANÇA ...</td>\n",
       "      <td>DEPARTAMENTO DE ARTES</td>\n",
       "      <td>ABERTA</td>\n",
       "      <td>40.0</td>\n",
       "      <td>1M345 7M2345  17T23456</td>\n",
       "    </tr>\n",
       "    <tr>\n",
       "      <th>3</th>\n",
       "      <td>57602963</td>\n",
       "      <td>3031948.0</td>\n",
       "      <td>ART2086</td>\n",
       "      <td>LATO SENSU</td>\n",
       "      <td>PRÁTICAS DE IMPROVISAÇÃO PARA A CENA DAS DANÇA...</td>\n",
       "      <td>DEPARTAMENTO DE ARTES</td>\n",
       "      <td>CONSOLIDADA</td>\n",
       "      <td>40.0</td>\n",
       "      <td>7M2345  7T3456</td>\n",
       "    </tr>\n",
       "    <tr>\n",
       "      <th>4</th>\n",
       "      <td>57603192</td>\n",
       "      <td>5752917.0</td>\n",
       "      <td>MUT491</td>\n",
       "      <td>TÉCNICO</td>\n",
       "      <td>ARRANJOS II</td>\n",
       "      <td>ESCOLA DE MÚSICA</td>\n",
       "      <td>CONSOLIDADA</td>\n",
       "      <td>20.0</td>\n",
       "      <td>3T34</td>\n",
       "    </tr>\n",
       "    <tr>\n",
       "      <th>5</th>\n",
       "      <td>57603193</td>\n",
       "      <td>35466.0</td>\n",
       "      <td>MUT102</td>\n",
       "      <td>TÉCNICO</td>\n",
       "      <td>CANTO II</td>\n",
       "      <td>ESCOLA DE MÚSICA</td>\n",
       "      <td>CONSOLIDADA</td>\n",
       "      <td>3.0</td>\n",
       "      <td>3T456</td>\n",
       "    </tr>\n",
       "  </tbody>\n",
       "</table>\n",
       "</div>"
      ],
      "text/plain": [
       "   id_turma  id_docente_interno   codigo nivel_ensino  \\\n",
       "0  57602957           5753061.0  ART2077   LATO SENSU   \n",
       "2  57602962           5752714.0  ART2083   LATO SENSU   \n",
       "3  57602963           3031948.0  ART2086   LATO SENSU   \n",
       "4  57603192           5752917.0   MUT491      TÉCNICO   \n",
       "5  57603193             35466.0   MUT102      TÉCNICO   \n",
       "\n",
       "                                                nome    unidade_responsavel  \\\n",
       "0                            PRODUÇÃO COREOGRÁFICA I  DEPARTAMENTO DE ARTES   \n",
       "2  VIESES  ARTÍSTICOS  CONTEMPORÂNEOS  EM  DANÇA ...  DEPARTAMENTO DE ARTES   \n",
       "3  PRÁTICAS DE IMPROVISAÇÃO PARA A CENA DAS DANÇA...  DEPARTAMENTO DE ARTES   \n",
       "4                                        ARRANJOS II       ESCOLA DE MÚSICA   \n",
       "5                                           CANTO II       ESCOLA DE MÚSICA   \n",
       "\n",
       "  situacao_turma  capacidade_aluno       descricao_horario  \n",
       "0    CONSOLIDADA              40.0         7M2345  7T23456  \n",
       "2         ABERTA              40.0  1M345 7M2345  17T23456  \n",
       "3    CONSOLIDADA              40.0          7M2345  7T3456  \n",
       "4    CONSOLIDADA              20.0                    3T34  \n",
       "5    CONSOLIDADA               3.0                   3T456  "
      ]
     },
     "execution_count": 4,
     "metadata": {},
     "output_type": "execute_result"
    }
   ],
   "source": [
    "# Fazendo um merge entre o dataframe turmas e disciplinas utilizando como base a coluna id_componente\n",
    "# https://pandas.pydata.org/pandas-docs/stable/merging.html\n",
    "colunas = [\"id_turma\",\"id_docente_interno\",\"codigo\",\"nivel_ensino\",\"nome\",\"unidade_responsavel\",\n",
    "          \"situacao_turma\",\"capacidade_aluno\",\"descricao_horario\"]\n",
    "\n",
    "# merge os dois dataframes utilizando como base a coluna id_componenteb\n",
    "merge_turmas_disciplinas = pd.merge(turmas, disciplinas, on='id_componente')[colunas]\n",
    "\n",
    "merge_turmas_disciplinas.dropna(inplace=True)\n",
    "merge_turmas_disciplinas.head()"
   ]
  },
  {
   "cell_type": "code",
   "execution_count": 5,
   "metadata": {},
   "outputs": [],
   "source": [
    "# filtrando as turmas com código IMD\n",
    "turmas_imd = merge_turmas_disciplinas[merge_turmas_disciplinas.codigo.str.contains(\"IMD\")]\n",
    "\n",
    "# utilizar apenas disciplinas com código \"CONSOLIDADA\"\n",
    "turmas_imd = turmas_imd[turmas_imd.situacao_turma == 'CONSOLIDADA']\n",
    "\n",
    "# Adaptar o nome da coluna id_docente_interno para id_servidor\n",
    "turmas_imd.rename(columns={'id_docente_interno': 'id_servidor'}, inplace=True)\n",
    "\n",
    "turmas_imd.capacidade_aluno = turmas_imd.capacidade_aluno.astype(np.int64)\n",
    "\n",
    "# Adaptar os tipos de dados em turmas_imd para o merge com o dataframe docentes\n",
    "turmas_imd.id_servidor = turmas_imd.id_servidor.astype(np.int64)"
   ]
  },
  {
   "cell_type": "code",
   "execution_count": 6,
   "metadata": {},
   "outputs": [
    {
     "data": {
      "text/html": [
       "<div>\n",
       "<style scoped>\n",
       "    .dataframe tbody tr th:only-of-type {\n",
       "        vertical-align: middle;\n",
       "    }\n",
       "\n",
       "    .dataframe tbody tr th {\n",
       "        vertical-align: top;\n",
       "    }\n",
       "\n",
       "    .dataframe thead th {\n",
       "        text-align: right;\n",
       "    }\n",
       "</style>\n",
       "<table border=\"1\" class=\"dataframe\">\n",
       "  <thead>\n",
       "    <tr style=\"text-align: right;\">\n",
       "      <th></th>\n",
       "      <th>id_turma</th>\n",
       "      <th>nome_y</th>\n",
       "      <th>codigo</th>\n",
       "      <th>nivel_ensino</th>\n",
       "      <th>nome_x</th>\n",
       "      <th>capacidade_aluno</th>\n",
       "      <th>descricao_horario</th>\n",
       "    </tr>\n",
       "  </thead>\n",
       "  <tbody>\n",
       "    <tr>\n",
       "      <th>0</th>\n",
       "      <td>57608376</td>\n",
       "      <td>LUCELIO DANTAS DE AQUINO</td>\n",
       "      <td>IMD0017</td>\n",
       "      <td>GRADUAÇÃO</td>\n",
       "      <td>PRÁTICAS DE LEITURA E ESCRITA EM PORTUGUÊS I</td>\n",
       "      <td>60</td>\n",
       "      <td>5N34 (24/07/2017 - 16/12/2017)</td>\n",
       "    </tr>\n",
       "    <tr>\n",
       "      <th>1</th>\n",
       "      <td>57608398</td>\n",
       "      <td>LUCELIO DANTAS DE AQUINO</td>\n",
       "      <td>IMD0027</td>\n",
       "      <td>GRADUAÇÃO</td>\n",
       "      <td>PRÁTICAS DE LEITURA E ESCRITA EM PORTUGUÊS II</td>\n",
       "      <td>60</td>\n",
       "      <td>3N34 (24/07/2017 - 16/12/2017)</td>\n",
       "    </tr>\n",
       "    <tr>\n",
       "      <th>2</th>\n",
       "      <td>57608691</td>\n",
       "      <td>LUCELIO DANTAS DE AQUINO</td>\n",
       "      <td>IMD0335</td>\n",
       "      <td>GRADUAÇÃO</td>\n",
       "      <td>TÓPICOS ESPECIAIS I</td>\n",
       "      <td>40</td>\n",
       "      <td>35T56 (24/07/2017 - 16/12/2017)</td>\n",
       "    </tr>\n",
       "    <tr>\n",
       "      <th>3</th>\n",
       "      <td>57608377</td>\n",
       "      <td>LOURENA KARIN DE MEDEIROS ROCHA</td>\n",
       "      <td>IMD0019</td>\n",
       "      <td>GRADUAÇÃO</td>\n",
       "      <td>RESOLUÇÃO DE PROBLEMAS MATEMÁTICOS PARA TI</td>\n",
       "      <td>65</td>\n",
       "      <td>246M3456 (24/07/2017 - 16/12/2017)</td>\n",
       "    </tr>\n",
       "    <tr>\n",
       "      <th>4</th>\n",
       "      <td>57608377</td>\n",
       "      <td>CHARLES ANDRYE GALVAO MADEIRA</td>\n",
       "      <td>IMD0019</td>\n",
       "      <td>GRADUAÇÃO</td>\n",
       "      <td>RESOLUÇÃO DE PROBLEMAS MATEMÁTICOS PARA TI</td>\n",
       "      <td>65</td>\n",
       "      <td>246M3456 (24/07/2017 - 16/12/2017)</td>\n",
       "    </tr>\n",
       "  </tbody>\n",
       "</table>\n",
       "</div>"
      ],
      "text/plain": [
       "   id_turma                           nome_y   codigo nivel_ensino  \\\n",
       "0  57608376         LUCELIO DANTAS DE AQUINO  IMD0017    GRADUAÇÃO   \n",
       "1  57608398         LUCELIO DANTAS DE AQUINO  IMD0027    GRADUAÇÃO   \n",
       "2  57608691         LUCELIO DANTAS DE AQUINO  IMD0335    GRADUAÇÃO   \n",
       "3  57608377  LOURENA KARIN DE MEDEIROS ROCHA  IMD0019    GRADUAÇÃO   \n",
       "4  57608377    CHARLES ANDRYE GALVAO MADEIRA  IMD0019    GRADUAÇÃO   \n",
       "\n",
       "                                          nome_x  capacidade_aluno  \\\n",
       "0   PRÁTICAS DE LEITURA E ESCRITA EM PORTUGUÊS I                60   \n",
       "1  PRÁTICAS DE LEITURA E ESCRITA EM PORTUGUÊS II                60   \n",
       "2                            TÓPICOS ESPECIAIS I                40   \n",
       "3     RESOLUÇÃO DE PROBLEMAS MATEMÁTICOS PARA TI                65   \n",
       "4     RESOLUÇÃO DE PROBLEMAS MATEMÁTICOS PARA TI                65   \n",
       "\n",
       "                    descricao_horario  \n",
       "0      5N34 (24/07/2017 - 16/12/2017)  \n",
       "1      3N34 (24/07/2017 - 16/12/2017)  \n",
       "2     35T56 (24/07/2017 - 16/12/2017)  \n",
       "3  246M3456 (24/07/2017 - 16/12/2017)  \n",
       "4  246M3456 (24/07/2017 - 16/12/2017)  "
      ]
     },
     "execution_count": 6,
     "metadata": {},
     "output_type": "execute_result"
    }
   ],
   "source": [
    "# merge os dataframes  turmas_imd e docentes utilizando como base a coluna id_servidor\n",
    "\n",
    "colunas = [\"id_turma\", \"nome_y\", \"codigo\", \"nivel_ensino\",\n",
    "          \"nome_x\",\"capacidade_aluno\", \"descricao_horario\"]\n",
    "turmas_imd_nomesprof = pd.merge(turmas_imd, docentes, on='id_servidor')[colunas]\n",
    "turmas_imd_nomesprof.head()"
   ]
  },
  {
   "cell_type": "code",
   "execution_count": 7,
   "metadata": {},
   "outputs": [],
   "source": [
    "# filtrar apenas as turmas do IMD\n",
    "notas_imd = notas[notas.id_turma.isin(turmas_imd_nomesprof.id_turma)]\n",
    "\n",
    "# merge entre os dataframes notas_imd e turmas_imd_nomesprof utilizando como referencia id_turma\n",
    "notas_imd_merge = pd.merge(notas_imd, turmas_imd_nomesprof, on='id_turma')"
   ]
  },
  {
   "cell_type": "code",
   "execution_count": 9,
   "metadata": {},
   "outputs": [],
   "source": [
    "def aprovado(column):\n",
    "    if column[\"descricao\"]==(\"APROVADO\" or \"APROVADO POR NOTA\"):\n",
    "        return 1\n",
    "    else:\n",
    "        return 0"
   ]
  },
  {
   "cell_type": "code",
   "execution_count": 10,
   "metadata": {},
   "outputs": [],
   "source": [
    "# Colocando uma flag nos alunos aprovados em 2017.2\n",
    "rotulos = notas_imd_merge.apply(aprovado, axis = 1)\n",
    "notas_imd_merge[\"aprovado\"] = rotulos\n"
   ]
  },
  {
   "cell_type": "code",
   "execution_count": 29,
   "metadata": {},
   "outputs": [
    {
     "data": {
      "text/plain": [
       "array(['INTRODUÇÃO ÀS TÉCNICAS DE PROGRAMAÇÃO',\n",
       "       'PRÁTICAS DE TÉCNICAS DE PROGRAMAÇÃO', 'DESIGN DE SOFTWARE II',\n",
       "       'INTRODUÇÃO À GOVERNANÇA E GESTÃO DE TI', 'ACESSIBILIDADE DIGITAL',\n",
       "       'EMPREENDEDORISMO',\n",
       "       'PROCESSO DE DESENVOLVIMENTO DE SOFTWARE EDUCACIONAL',\n",
       "       'TÓPICOS ESPECIAIS I', 'INTRODUÇÃO AO TESTE DE SOFTWARE',\n",
       "       'PROGRAMAÇÃO CONCORRENTE E DISTRIBUÍDA',\n",
       "       'RELAÇÕES ENTRE COMUNICAÇÃO, MÍDIA E EDUCAÇÃO',\n",
       "       'CÁLCULO DIFERENCIAL E INTEGRAL I', 'SISTEMAS OPERACIONAIS',\n",
       "       'REDES DE COMPUTADORES', 'VETORES E GEOMETRIA ANALÍTICA',\n",
       "       'JOGOS DIGITAIS COMO FERRAMENTA PEDAGÓGICA',\n",
       "       'DESENVOLVIMENTO DE SISTEMAS WEB I',\n",
       "       'PROTOCOLO E SERVIÇOS DE INTERNET',\n",
       "       'PROJETOS BASEADOS EM MICROCONTROLADORES',\n",
       "       'PRÁTICAS DE LEITURA E ESCRITA EM PORTUGUÊS II',\n",
       "       'TÓPICOS ESPECIAIS EM INFORMÁTICA EDUCACIONAL B\"',\n",
       "       'TÓPICOS ESPECIAIS EM INFORMÁTICA EDUCACIONAL C\"',\n",
       "       'TÓPICOS ESPECIAIS EM INFORMÁTICA EDUCACIONAL D\"',\n",
       "       'TÓPICOS ESPECIAIS EM REDES DE COMPUTADORES C\"',\n",
       "       'SERVIÇOS DE REDE E TRANSPORTE', 'SEGURANÇA DE REDES',\n",
       "       'APRENDIZAGEM BASEADA EM PROJETOS', 'TECNOLOGIAS EDUCACIONAIS',\n",
       "       'FERRAMENTAS PARA ANÁLISE DE SEQUÊNCIAS',\n",
       "       'TECNOLOGIAS EM LARGA ESCALA I',\n",
       "       'MECÂNICAS E BALANCEAMENTO DE JOGOS',\n",
       "       'TECNOLOGIA DA INFORMAÇÃO NA SAÚDE',\n",
       "       'FUNDAMENTOS MATEMÁTICOS DA COMPUTAÇÃO I',\n",
       "       'ESTRUTURA DE DADOS BÁSICAS I', 'LINGUAGEM DE PROGRAMAÇÃO I',\n",
       "       'FUNDAMENTOS MATEMÁTICOS DA COMPUTAÇÃO II',\n",
       "       'ESTRUTURAS DE DADOS BÁSICAS II', 'LINGUAGEM DE PROGRAMAÇÃO II',\n",
       "       'BANCO DE DADOS', 'PRÁTICAS DE LEITURA E ESCRITA EM PORTUGUÊS I',\n",
       "       'TECNOLOGIA DA INFORMAÇÃO E SOCIEDADE',\n",
       "       'RESOLUÇÃO DE PROBLEMAS MATEMÁTICOS PARA TI', 'PROBABILIDADE'],\n",
       "      dtype=object)"
      ]
     },
     "execution_count": 29,
     "metadata": {},
     "output_type": "execute_result"
    }
   ],
   "source": [
    "#Separando e tratando os alunos de graduação em 2017.2\n",
    "graduacao_imd = notas_imd_merge[notas_imd_merge[\"nivel_ensino\"] != \"LATO SENSU\"]\n",
    "graduacao_imd = graduacao_imd[graduacao_imd[\"descricao\"] != \"INDEFERIDO\"]\n",
    "graduacao_imd = graduacao_imd[graduacao_imd[\"descricao\"] != \"CANCELADO\"]\n",
    "graduacao_imd = graduacao_imd[graduacao_imd[\"descricao\"] != \"EXCLUIDA\"]\n",
    "graduacao_imd.nome_x.unique()"
   ]
  },
  {
   "cell_type": "code",
   "execution_count": 50,
   "metadata": {},
   "outputs": [],
   "source": [
    "#Separando as turmas de ITP e os aprovados.\n",
    "itp =graduacao_imd[graduacao_imd[\"nome_x\"] == \"INTRODUÇÃO ÀS TÉCNICAS DE PROGRAMAÇÃO\"]\n",
    "itp = itp[itp.duplicated(subset = \"discente\", keep = 'first') != True]\n",
    "aprovados_itp = itp.pivot_table(index = \"nome_x\", values = \"aprovado\", aggfunc = np.sum)\n",
    "quantidade_alunos = itp.pivot_table(index = \"nome_x\", values = \"capacidade_aluno\", aggfunc = len)"
   ]
  },
  {
   "cell_type": "code",
   "execution_count": 32,
   "metadata": {},
   "outputs": [],
   "source": [
    "#Separando as turmas de PTP e os aprovados.\n",
    "ptp =graduacao_imd[graduacao_imd[\"nome_x\"] == \"PRÁTICAS DE TÉCNICAS DE PROGRAMAÇÃO\"]\n",
    "ptp = ptp[ptp.duplicated(subset = \"discente\", keep = 'first') != True]\n",
    "aprovados_ptp = ptp.pivot_table(index = \"nome_x\", values = \"aprovado\", aggfunc = np.sum)\n",
    "quantidade_alunos = ptp.pivot_table(index = \"nome_x\", values = \"capacidade_aluno\", aggfunc = len)"
   ]
  },
  {
   "cell_type": "code",
   "execution_count": 33,
   "metadata": {},
   "outputs": [],
   "source": [
    "#Separando as turmas de LIP 1 e os aprovados.\n",
    "lip1 =graduacao_imd[graduacao_imd[\"nome_x\"] == \"LINGUAGEM DE PROGRAMAÇÃO I\"]\n",
    "lip1 = lip1[lip1.duplicated(subset = \"discente\", keep = 'first') != True]\n",
    "aprovados_lip1 = lip1.pivot_table(index = [\"nome_x\"], values = [\"aprovado\",\"capacidade_aluno\"], aggfunc = np.sum)\n",
    "quantidade_alunos = lip1.pivot_table(index = \"nome_x\", values = \"capacidade_aluno\", aggfunc = len)"
   ]
  },
  {
   "cell_type": "code",
   "execution_count": 34,
   "metadata": {},
   "outputs": [],
   "source": [
    "#Separando as turmas de DESIGN DE SOFTWARE II e os aprovados\n",
    "ds2 =graduacao_imd[graduacao_imd[\"nome_x\"] == \"DESIGN DE SOFTWARE II\"]\n",
    "ds2 = ds2[ds2.duplicated(subset = \"discente\", keep = 'first') != True]\n",
    "aprovados_ds2 = ds2.pivot_table(index = [\"nome_x\"], values = [\"aprovado\",\"capacidade_aluno\"], aggfunc = np.sum)\n",
    "quantidade_alunos = ds2.pivot_table(index = \"nome_x\", values = \"capacidade_aluno\", aggfunc = len)"
   ]
  },
  {
   "cell_type": "code",
   "execution_count": 35,
   "metadata": {},
   "outputs": [],
   "source": [
    "#Separando as turmas de INTRODUÇÃO À GOVERNANÇA E GESTÃO DE TI e os aprovados\n",
    "iggti =graduacao_imd[graduacao_imd[\"nome_x\"] == \"INTRODUÇÃO À GOVERNANÇA E GESTÃO DE TI\"]\n",
    "iggti = iggti[iggti.duplicated(subset = \"discente\", keep = 'first') != True]\n",
    "aprovados_iggti = iggti.pivot_table(index = [\"nome_x\"], values = [\"aprovado\",\"capacidade_aluno\"], aggfunc = np.sum)\n",
    "quantidade_alunos = iggti.pivot_table(index = \"nome_x\", values = \"capacidade_aluno\", aggfunc = len)"
   ]
  },
  {
   "cell_type": "code",
   "execution_count": 36,
   "metadata": {},
   "outputs": [],
   "source": [
    "#Separando as turmas de ACESSIBILIDADE DIGITAL e os aprovados\n",
    "ad =graduacao_imd[graduacao_imd[\"nome_x\"] == \"ACESSIBILIDADE DIGITAL\"]\n",
    "ad = ad[ad.duplicated(subset = \"discente\", keep = 'first') != True]\n",
    "aprovados_ad = ad.pivot_table(index = [\"nome_x\"], values = [\"aprovado\",\"capacidade_aluno\"], aggfunc = np.sum)\n",
    "quantidade_alunos = ad.pivot_table(index = \"nome_x\", values = \"capacidade_aluno\", aggfunc = len)"
   ]
  },
  {
   "cell_type": "code",
   "execution_count": 37,
   "metadata": {},
   "outputs": [],
   "source": [
    "#Separando as turmas de EMPREENDEDORISMO e os aprovados\n",
    "emp =graduacao_imd[graduacao_imd[\"nome_x\"] == \"EMPREENDEDORISMO\"]\n",
    "emp = emp[emp.duplicated(subset = \"discente\", keep = 'first') != True]\n",
    "aprovados_emp = emp.pivot_table(index = [\"nome_x\"], values = [\"aprovado\",\"capacidade_aluno\"], aggfunc = np.sum)\n",
    "quantidade_alunos = emp.pivot_table(index = \"nome_x\", values = \"capacidade_aluno\", aggfunc = len)"
   ]
  },
  {
   "cell_type": "code",
   "execution_count": 38,
   "metadata": {},
   "outputs": [],
   "source": [
    "#Separando as turmas de PROCESSO DE DESENVOLVIMENTO DE SOFTWARE EDUCACIONAL e os aprovados\n",
    "pdse =graduacao_imd[graduacao_imd[\"nome_x\"] == \"PROCESSO DE DESENVOLVIMENTO DE SOFTWARE EDUCACIONAL\"]\n",
    "pdse = pdse[pdse.duplicated(subset = \"discente\", keep = 'first') != True]\n",
    "aprovados_pdse = pdse.pivot_table(index = [\"nome_x\"], values = [\"aprovado\",\"capacidade_aluno\"], aggfunc = np.sum)\n",
    "quantidade_alunos = pdse.pivot_table(index = \"nome_x\", values = \"capacidade_aluno\", aggfunc = len)"
   ]
  },
  {
   "cell_type": "code",
   "execution_count": 39,
   "metadata": {},
   "outputs": [],
   "source": [
    "#Separando as turmas de TÓPICOS ESPECIAIS I e os aprovados\n",
    "te1 =graduacao_imd[graduacao_imd[\"nome_x\"] == \"TÓPICOS ESPECIAIS I\"]\n",
    "te1 = te1[te1.duplicated(subset = \"discente\", keep = 'first') != True]\n",
    "aprovados_te1 = te1.pivot_table(index = [\"nome_x\"], values = [\"aprovado\",\"capacidade_aluno\"], aggfunc = np.sum)\n",
    "quantidade_alunos = te1.pivot_table(index = \"nome_x\", values = \"capacidade_aluno\", aggfunc = len)"
   ]
  },
  {
   "cell_type": "code",
   "execution_count": null,
   "metadata": {},
   "outputs": [],
   "source": [
    "#Separando as turmas de TÓPICOS ESPECIAIS I e os aprovados\n",
    "te1 =graduacao_imd[graduacao_imd[\"nome_x\"] == \"TÓPICOS ESPECIAIS I\"]\n",
    "te1 = te1[te1.duplicated(subset = \"discente\", keep = 'first') != True]\n",
    "aprovados_te1 = te1.pivot_table(index = [\"nome_x\"], values = [\"aprovado\",\"capacidade_aluno\"], aggfunc = np.sum)\n",
    "quantidade_alunos = te1.pivot_table(index = \"nome_x\", values = \"capacidade_aluno\", aggfunc = len)"
   ]
  },
  {
   "cell_type": "code",
   "execution_count": 54,
   "metadata": {},
   "outputs": [],
   "source": [
    "#Separando as turmas de INTRODUÇÃO AO TESTE DE SOFTWARE e os aprovados\n",
    "its =graduacao_imd[graduacao_imd[\"nome_x\"] == \"INTRODUÇÃO AO TESTE DE SOFTWARE\"]\n",
    "its = its[its.duplicated(subset = \"discente\", keep = 'first') != True]\n",
    "aprovados_its = its.pivot_table(index = [\"nome_x\"], values = \"aprovado\", aggfunc = np.sum)\n",
    "quantidade_alunos = its.pivot_table(index = \"nome_x\", values = \"capacidade_aluno\", aggfunc = len)\n",
    "percent = (aprovados_its.aprovado/quantidade_alunos.capacidade_aluno)*100"
   ]
  },
  {
   "cell_type": "code",
   "execution_count": 41,
   "metadata": {},
   "outputs": [],
   "source": [
    "#Separando as turmas de TÓPICOS ESPECIAIS I e os aprovados\n",
    "te1 =graduacao_imd[graduacao_imd[\"nome_x\"] == \"TÓPICOS ESPECIAIS I\"]\n",
    "te1 = te1[te1.duplicated(subset = \"discente\", keep = 'first') != True]\n",
    "aprovados_te1 = te1.pivot_table(index = [\"nome_x\"], values = [\"aprovado\",\"capacidade_aluno\"], aggfunc = np.sum)\n",
    "quantidade_alunos = te1.pivot_table(index = \"nome_x\", values = \"capacidade_aluno\", aggfunc = len)"
   ]
  },
  {
   "cell_type": "code",
   "execution_count": null,
   "metadata": {},
   "outputs": [],
   "source": [
    "#Separando as turmas de TÓPICOS ESPECIAIS I e os aprovados\n",
    "te1 =graduacao_imd[graduacao_imd[\"nome_x\"] == \"TÓPICOS ESPECIAIS I\"]\n",
    "te1 = te1[te1.duplicated(subset = \"discente\", keep = 'first') != True]\n",
    "aprovados_te1 = te1.pivot_table(index = [\"nome_x\"], values = [\"aprovado\",\"capacidade_aluno\"], aggfunc = np.sum)\n",
    "quantidade_alunos = te1.pivot_table(index = \"nome_x\", values = \"capacidade_aluno\", aggfunc = len)"
   ]
  },
  {
   "cell_type": "code",
   "execution_count": 84,
   "metadata": {},
   "outputs": [],
   "source": [
    "#Juntando os dataframes depois de serem tratados\n",
    "teste = pd.concat([itp, ptp], ignore_index = True)"
   ]
  }
 ],
 "metadata": {
  "kernelspec": {
   "display_name": "Python 3",
   "language": "python",
   "name": "python3"
  },
  "language_info": {
   "codemirror_mode": {
    "name": "ipython",
    "version": 3
   },
   "file_extension": ".py",
   "mimetype": "text/x-python",
   "name": "python",
   "nbconvert_exporter": "python",
   "pygments_lexer": "ipython3",
   "version": "3.6.4"
  }
 },
 "nbformat": 4,
 "nbformat_minor": 2
}
